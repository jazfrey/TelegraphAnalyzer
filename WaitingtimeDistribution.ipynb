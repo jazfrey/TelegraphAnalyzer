{
 "cells": [
  {
   "cell_type": "code",
   "execution_count": 2,
   "metadata": {
    "tags": []
   },
   "outputs": [],
   "source": [
    "from Scripts import WaitingtimeDistribution as wait\n",
    "from lmfit import Parameters\n",
    "import numpy as np"
   ]
  },
  {
   "cell_type": "markdown",
   "metadata": {},
   "source": [
    "### How to set up the fit for a single Photon system"
   ]
  },
  {
   "cell_type": "code",
   "execution_count": 3,
   "metadata": {
    "tags": []
   },
   "outputs": [
    {
     "name": "stdout",
     "output_type": "stream",
     "text": [
      "[[-4.00000e+02  1.00000e+07  5.00000e+02  0.00000e+00]\n",
      " [ 0.00000e+00 -1.00004e+07  0.00000e+00  5.00000e+02]\n",
      " [ 4.00000e+02  0.00000e+00 -6.80000e+02  1.00000e+07]\n",
      " [ 0.00000e+00  4.00000e+02  1.80000e+02 -1.00005e+07]]\n",
      "[[-4.00000e+02  0.00000e+00  5.00000e+02  0.00000e+00]\n",
      " [ 0.00000e+00 -1.00004e+07  0.00000e+00  5.00000e+02]\n",
      " [ 4.00000e+02  0.00000e+00 -6.80000e+02  0.00000e+00]\n",
      " [ 0.00000e+00  4.00000e+02  0.00000e+00 -1.00005e+07]]\n",
      "[[       0. 10000000.        0.        0.]\n",
      " [       0.        0.        0.        0.]\n",
      " [       0.        0.        0. 10000000.]\n",
      " [       0.        0.        0.        0.]]\n",
      "[[  0.   0.   0.   0.]\n",
      " [  0.   0.   0.   0.]\n",
      " [  0.   0.   0.   0.]\n",
      " [  0.   0. 180.   0.]]\n"
     ]
    },
    {
     "ename": "TypeError",
     "evalue": "FitSystem.__init__() missing 1 required positional argument: 'photonRatio'",
     "output_type": "error",
     "traceback": [
      "\u001b[1;31m---------------------------------------------------------------------------\u001b[0m",
      "\u001b[1;31mTypeError\u001b[0m                                 Traceback (most recent call last)",
      "Cell \u001b[1;32mIn[3], line 39\u001b[0m\n\u001b[0;32m     37\u001b[0m path \u001b[38;5;241m=\u001b[39m \u001b[38;5;124mr\u001b[39m\u001b[38;5;124m\"\u001b[39m\u001b[38;5;124m/home/...\u001b[39m\u001b[38;5;124m\"\u001b[39m\n\u001b[0;32m     38\u001b[0m \u001b[38;5;66;03m# setting up the fit\u001b[39;00m\n\u001b[1;32m---> 39\u001b[0m fitsystem \u001b[38;5;241m=\u001b[39m wait\u001b[38;5;241m.\u001b[39mFitSystem(set_system\u001b[38;5;241m=\u001b[39mset_system, path\u001b[38;5;241m=\u001b[39mpath, doParallel\u001b[38;5;241m=\u001b[39m\u001b[38;5;28;01mFalse\u001b[39;00m)\n\u001b[0;32m     40\u001b[0m result \u001b[38;5;241m=\u001b[39m fitsystem\u001b[38;5;241m.\u001b[39mfit_timestamps(params)\n\u001b[0;32m     42\u001b[0m result\n",
      "\u001b[1;31mTypeError\u001b[0m: FitSystem.__init__() missing 1 required positional argument: 'photonRatio'"
     ]
    }
   ],
   "source": [
    "# Setting up the parameters, using the parameter format from lmfit\n",
    "params = Parameters()\n",
    "params.add(\"gamma_in\", value=500, min=0, max=1000)\n",
    "params.add(\"gamma_out\", value=400, min=0, max=1000)\n",
    "params.add(\"gamma_ph\", value=180, min=0, max=2000, vary=False)\n",
    "params.add(\"gamma_det\", value=1e7, min=0, max=1e7, vary=False)\n",
    "\n",
    "# Function that sets up the system-obj, whichs stores all the information needed for the calculation\n",
    "def set_system(params):\n",
    "    # Dictionary that determines the transitions\n",
    "    rates = {   \"1->3\": params[\"gamma_out\"],\n",
    "                \"3->1\": params[\"gamma_in\"],\n",
    "                \"3->4\": params[\"gamma_ph\"],\n",
    "                \"4->3\": params[\"gamma_det\"],\n",
    "                \"2->4\": params[\"gamma_out\"],\n",
    "                \"4->2\": params[\"gamma_in\"],\n",
    "                \"2->1\": params[\"gamma_det\"]}\n",
    "    \n",
    "    # Jumpoperators\n",
    "    j1 = {  \"2->1\": params[\"gamma_det\"],\n",
    "            \"4->3\": params[\"gamma_det\"] }\n",
    "    j2 = {  \"2->1\": 0,  #Small trick, otherwise rates_to_matrix() does bullshit\n",
    "            \"3->4\": params[\"gamma_ph\"]}\n",
    "\n",
    "    jumps = [j1, j2]\n",
    "\n",
    "    system = wait.System(rates, jumps)\n",
    "    return system\n",
    "\n",
    "system = set_system(params)\n",
    "# print(system.L)\n",
    "# print(system.L0)\n",
    "# print(system.jumps_matrix[0])\n",
    "# print(system.jumps_matrix[1])\n",
    "\n",
    "# Path of the timestamp data\n",
    "filepath = r\"/home/...\"\n",
    "array = np.load(filepath)\n",
    "photonRatio = (len(array) / array[-1])\n",
    "# setting up the fit\n",
    "fitsystem = wait.FitSystem(set_system=set_system, path=filepath, photonRatio=photonRatio, doParallel=False)\n",
    "result = fitsystem.fit_timestamps(params)\n",
    "\n",
    "result"
   ]
  }
 ],
 "metadata": {
  "kernelspec": {
   "display_name": "Python 3 (ipykernel)",
   "language": "python",
   "name": "python3"
  },
  "language_info": {
   "codemirror_mode": {
    "name": "ipython",
    "version": 3
   },
   "file_extension": ".py",
   "mimetype": "text/x-python",
   "name": "python",
   "nbconvert_exporter": "python",
   "pygments_lexer": "ipython3",
   "version": "3.11.5"
  }
 },
 "nbformat": 4,
 "nbformat_minor": 4
}
